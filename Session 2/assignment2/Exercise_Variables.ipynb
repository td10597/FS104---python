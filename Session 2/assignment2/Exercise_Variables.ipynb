{
 "cells": [
  {
   "cell_type": "markdown",
   "metadata": {},
   "source": [
    "# Questions"
   ]
  },
  {
   "cell_type": "markdown",
   "metadata": {},
   "source": [
    "## Question 1"
   ]
  },
  {
   "cell_type": "markdown",
   "metadata": {},
   "source": [
    "**How do you tell Python that a variable is a string (characters) instead of a number?**"
   ]
  },
  {
   "source": [
    "name=\"John\"\n",
    "age=25"
   ],
   "cell_type": "markdown",
   "metadata": {}
  },
  {
   "source": [
    "type (name)"
   ],
   "cell_type": "markdown",
   "metadata": {}
  },
  {
   "source": [
    "type (age)"
   ],
   "cell_type": "markdown",
   "metadata": {}
  },
  {
   "source": [
    "age = '25';\n",
    "print(type(age));\n",
    "### Add quotation marks to the variable."
   ],
   "cell_type": "markdown",
   "metadata": {}
  },
  {
   "cell_type": "markdown",
   "metadata": {},
   "source": [
    "## Question 2"
   ]
  },
  {
   "cell_type": "markdown",
   "metadata": {},
   "source": [
    "**Once you have created a variable, can you change the value that is assigned to it?**"
   ]
  },
  {
   "source": [
    "name=\"Peter\""
   ],
   "cell_type": "markdown",
   "metadata": {}
  },
  {
   "source": [
    "name"
   ],
   "cell_type": "markdown",
   "metadata": {}
  },
  {
   "source": [
    "name ='Peter';\n",
    "print(name);\n",
    "name = 'Alex';\n",
    "print(name);\n",
    "### Yes"
   ],
   "cell_type": "markdown",
   "metadata": {}
  },
  {
   "cell_type": "markdown",
   "metadata": {},
   "source": [
    "## Question 3"
   ]
  },
  {
   "cell_type": "markdown",
   "metadata": {},
   "source": [
    "**With variable names, is TEACHER the same as TEACHEr?**"
   ]
  },
  {
   "source": [
    "### No."
   ],
   "cell_type": "markdown",
   "metadata": {}
  },
  {
   "cell_type": "markdown",
   "metadata": {},
   "source": [
    "## Question 4"
   ]
  },
  {
   "cell_type": "markdown",
   "metadata": {},
   "source": [
    "**Is 'Blah' the same as \"Blah\" to Python?**"
   ]
  },
  {
   "source": [
    "### Yes."
   ],
   "cell_type": "markdown",
   "metadata": {}
  },
  {
   "cell_type": "markdown",
   "metadata": {},
   "source": [
    "## Question 5"
   ]
  },
  {
   "cell_type": "markdown",
   "metadata": {},
   "source": [
    "**Is '4' the same as 4 to Python?**"
   ]
  },
  {
   "source": [
    "### No, '4' will be recognized as a string."
   ],
   "cell_type": "markdown",
   "metadata": {}
  },
  {
   "cell_type": "markdown",
   "metadata": {},
   "source": [
    "## Question 6"
   ]
  },
  {
   "cell_type": "markdown",
   "metadata": {},
   "source": [
    "**Which of the following is not a correct variable name? Why?**\n",
    "\n",
    "**a) Teacher2 <br> b) 2Teacher <br> c) teacher_25 <br> d) TeaCher**"
   ]
  },
  {
   "source": [
    "### b. Because Python does not allow number for variable name"
   ],
   "cell_type": "markdown",
   "metadata": {}
  },
  {
   "cell_type": "markdown",
   "metadata": {},
   "source": [
    "## Question 7"
   ]
  },
  {
   "cell_type": "markdown",
   "metadata": {},
   "source": [
    "**Is \"10\" a number or a string?**\n"
   ]
  },
  {
   "source": [
    "### A string."
   ],
   "cell_type": "markdown",
   "metadata": {}
  },
  {
   "cell_type": "markdown",
   "metadata": {},
   "source": [
    "## Question 8"
   ]
  },
  {
   "cell_type": "markdown",
   "metadata": {},
   "source": [
    "**What is the value of variable n after the following instructions are executed?**\n",
    "\n",
    "    j=5\n",
    "\n",
    "    k=10\n",
    "\n",
    "    n=j*k"
   ]
  },
  {
   "source": [
    "### 50"
   ],
   "cell_type": "markdown",
   "metadata": {}
  },
  {
   "source": [
    "## Question 9"
   ],
   "cell_type": "markdown",
   "metadata": {}
  },
  {
   "source": [
    "**What's the output of following code if the user enters 24 in response to the input prompt.**\n",
    "\n",
    "age = input('How old are you?: ') <br>\n",
    "print('You are', age, 'years old')"
   ],
   "cell_type": "markdown",
   "metadata": {}
  },
  {
   "source": [
    "### You are 24 years old"
   ],
   "cell_type": "markdown",
   "metadata": {}
  },
  {
   "cell_type": "code",
   "execution_count": null,
   "metadata": {},
   "outputs": [],
   "source": []
  }
 ],
 "metadata": {
  "kernelspec": {
   "name": "python3",
   "display_name": "Python 3.9.1 64-bit",
   "metadata": {
    "interpreter": {
     "hash": "a523da0d5452cd412646b60b36220cc033746e1e702652c032b2a2fbae51ce0a"
    }
   }
  },
  "language_info": {
   "codemirror_mode": {
    "name": "ipython",
    "version": 3
   },
   "file_extension": ".py",
   "mimetype": "text/x-python",
   "name": "python",
   "nbconvert_exporter": "python",
   "pygments_lexer": "ipython3",
   "version": "3.9.1-final"
  }
 },
 "nbformat": 4,
 "nbformat_minor": 2
}